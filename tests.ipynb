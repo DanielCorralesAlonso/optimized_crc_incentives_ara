{
 "cells": [
  {
   "cell_type": "code",
   "execution_count": 61,
   "metadata": {},
   "outputs": [],
   "source": [
    "from pgmpy.models import BayesianNetwork\n",
    "\n",
    "from pgmpy.estimators import HillClimbSearch, BDsScore\n",
    "from pgmpy.factors.discrete import State\n",
    "import numpy as np\n",
    "import pandas as pd\n",
    "\n",
    "import pdb\n",
    "\n",
    "import itertools\n",
    "import pysmile\n",
    "import pysmile_license"
   ]
  },
  {
   "cell_type": "code",
   "execution_count": 397,
   "metadata": {},
   "outputs": [
    {
     "name": "stdout",
     "output_type": "stream",
     "text": [
      "Patient decision: ['No_screening', 'Stool_DNA']\n",
      "Probability of CRC: 0.002235155200821302\n"
     ]
    }
   ],
   "source": [
    "net2 = pysmile.Network()\n",
    "net2.read_file(f\"DM_screening_rel_point_cond_mut_info_linear.xdsl\")\n",
    "net2.clear_all_evidence()\n",
    "\n",
    "patient_chars = {\n",
    "\"Age\": \"age_5_old_adult\", \n",
    "\"Sex\": \"M\",\n",
    "\"SD\": \"SD_2_normal\",\n",
    "\"PA\": \"PA_2\",\n",
    "\"Smoking\": \"sm_1_not_smoker\",\n",
    "\"BMI\": \"bmi_2_normal\",\n",
    "\"Alcohol\": \"low\",\n",
    "\"Diabetes\": \"False\",\n",
    "\"Hypertension\": \"False\",\n",
    "}\n",
    "\n",
    "for key, value in patient_chars.items():\n",
    "    net2.set_evidence(key, value)\n",
    "\n",
    "net2.update_beliefs()\n",
    "\n",
    "p_crc = net2.get_node_value(\"CRC\")[1]\n",
    "p_no_crc = net2.get_node_value(\"CRC\")[0]\n",
    "\n",
    "vars1 = net2.get_outcome_ids(\"Screening\")\n",
    "arr = np.array(net2.get_node_value(\"Screening\"))\n",
    "df_scr = pd.DataFrame(arr.reshape(1,-1), index=[\"Screening\"], columns=vars1)\n",
    "\n",
    "# take column with the highest value\n",
    "scr = df_scr.idxmax(axis=1).values[0]\n",
    "scr_decision_patient = [\"No_screening\", scr]\n",
    "\n",
    "print(f\"Patient decision: {scr_decision_patient}\")\n",
    "print(f\"Probability of CRC: {p_crc}\")"
   ]
  },
  {
   "cell_type": "code",
   "execution_count": 709,
   "metadata": {},
   "outputs": [],
   "source": [
    "u_EQ5D = {\n",
    "    \"age_1_young_adult\": 0.966,\n",
    "    \"age_2_young\": 0.963,\n",
    "    \"age_3_young_adult\": 0.939,\n",
    "    \"age_4_adult\": 0.911,\n",
    "    \"age_5_old_adult\": 0.884,\n",
    "}\n",
    "\n",
    "def EQ5D(age):\n",
    "    return u_EQ5D[age]\n",
    "\n",
    "\n",
    "scr_costs_dict = {\n",
    "    \"No_screening\": 0,\n",
    "    \"FIT\": 14.34,\n",
    "    \"Blood_based\": 123.13,\n",
    "    \"Stool_DNA\": 236.88,\n",
    "    \"CTC\": 95.41,\n",
    "    \"CC\": 510.24,\n",
    "    \"Colonoscopy\": 1000\n",
    "}\n",
    "\n",
    "def scr_costs(scr):\n",
    "    return scr_costs_dict[scr]\n",
    "\n",
    "\n",
    "sensitivity_dict = {\n",
    "    \"No_screening\": 0,\n",
    "    \"gFOBT\": 0.45,\n",
    "    \"FIT\": 0.75,\n",
    "    \"Blood_based\": 0.66,\n",
    "    \"Stool_DNA\": 0.923,\n",
    "    \"CTC\": 0.8,\n",
    "    \"CC\": 0.87,\n",
    "    \"Colonoscopy\": 0.97\n",
    "}\n",
    "\n",
    "def sensitivity(scr):\n",
    "    return sensitivity_dict[scr]\n",
    "\n",
    "specificity_dict = {\n",
    "    \"No_screening\": 1,\n",
    "    \"gFOBT\": 0.978,\n",
    "    \"FIT\": 0.966,\n",
    "    \"Blood_based\": 0.91,\n",
    "    \"Stool_DNA\": 0.866,\n",
    "    \"CTC\": 0.89,\n",
    "    \"CC\": 0.92,\n",
    "    \"Colonoscopy\": 0.99\n",
    "}\n",
    "\n",
    "def specificity(scr):\n",
    "    return specificity_dict[scr]\n",
    "\n",
    "comfort_dict = {\n",
    "    \"No_screening\": 0,\n",
    "    \"gFOBT\": 1,\n",
    "    \"FIT\": 1,\n",
    "    \"Blood_based\": 1,\n",
    "    \"Stool_DNA\": 1,\n",
    "    \"CTC\": 2,\n",
    "    \"CC\": 2,\n",
    "    \"Colonoscopy\": 3\n",
    "}\n",
    "\n",
    "def comfort(scr):\n",
    "    return comfort_dict[scr]\n",
    "\n",
    "\n",
    "def diff_QALY_cit(crc, r_scr):\n",
    "    if crc == 1 and r_scr == 1:\n",
    "        return np.random.uniform(1.3, 1.4 )\n",
    "    elif crc == 1 and r_scr == 0:\n",
    "        return np.random.uniform(0.8, 0.95)\n",
    "    else:\n",
    "        return np.random.uniform(0.993, 1.005)\n",
    "\n",
    "def diff_QALY_gov(crc, r_scr):\n",
    "    if crc == 1 and r_scr == 1:\n",
    "        return np.random.uniform(10, 15 )\n",
    "    elif crc == 1 and r_scr == 0:\n",
    "        return np.random.uniform(0.1, 0.2)\n",
    "    else:\n",
    "        return np.random.uniform(0.999, 1)\n",
    "    \n",
    "\n",
    "def utility_gov(age, crc, scr, r_scr, K):\n",
    "    if scr == \"No_screening\":\n",
    "        return 30000*EQ5D(age)*diff_QALY_gov(crc, r_scr)\n",
    "    else:\n",
    "        return 30000*EQ5D(age)*diff_QALY_gov(crc, r_scr) - K*EQ5D(age) - scr_costs(scr) - 30000*crc*r_scr\n",
    "\n",
    "def utility_cit(age, crc, scr, r_scr, K):\n",
    "    if scr == \"No_screening\":\n",
    "        return 30000*EQ5D(age)*diff_QALY_cit(crc, r_scr)\n",
    "    else:\n",
    "        return 30000*EQ5D(age)*diff_QALY_cit(crc, r_scr) + K*EQ5D(age) - scr_costs(scr)*np.random.uniform(1 - 0.9/comfort(scr), 1 - 0.6/comfort(scr))\n"
   ]
  },
  {
   "cell_type": "markdown",
   "metadata": {},
   "source": [
    "### Citizen prob of accepting scr varying K"
   ]
  },
  {
   "cell_type": "code",
   "execution_count": 710,
   "metadata": {},
   "outputs": [],
   "source": [
    "import matplotlib.pyplot as plt\n",
    "\n",
    "def plot_histograms_count_distrib(net2, patient_chars):\n",
    "\n",
    "    for key, value in patient_chars.items():\n",
    "        net2.set_evidence(key, value)\n",
    "\n",
    "    net2.update_beliefs()\n",
    "\n",
    "    p_crc = net2.get_node_value(\"CRC\")[1]\n",
    "    p_no_crc = net2.get_node_value(\"CRC\")[0]\n",
    "\n",
    "    vars1 = net2.get_outcome_ids(\"Screening\")\n",
    "    arr = np.array(net2.get_node_value(\"Screening\"))\n",
    "    df_scr = pd.DataFrame(arr.reshape(1,-1), index=[\"Screening\"], columns=vars1)\n",
    "\n",
    "    # take column with the highest value\n",
    "    scr = df_scr.idxmax(axis=1).values[0]\n",
    "    scr_decision_patient = [\"No_screening\", scr]\n",
    "\n",
    "    print(f\"Optimal screening: {scr}\")\n",
    "    print(f\"p_crc = {p_crc}\")\n",
    "\n",
    "    total_sim = 100\n",
    "    count = 0\n",
    "    age = patient_chars[\"Age\"]\n",
    "\n",
    "    \n",
    "\n",
    "    scr_decision_patient = [\"No_screening\", scr]\n",
    "\n",
    "\n",
    "    for ind_k, k in enumerate([0, 1, 50, 100, 200]):\n",
    "        plt_arr = []\n",
    "        \n",
    "        for _ in range(100):\n",
    "            count_arr = np.zeros(len(scr_decision_patient))\n",
    "            for _ in range(total_sim):\n",
    "                arr = np.array( [\n",
    "                    sensitivity(scr) * p_crc * utility_cit(age, crc=1, r_scr=1, scr = scr, K=k) +\n",
    "                    (1 - specificity(scr)) * p_no_crc * utility_cit(age, crc=0, r_scr=1, scr = scr, K=k)\n",
    "                +\n",
    "                    (1 - sensitivity(scr)) * p_crc * utility_cit(age, crc=1, r_scr=0, scr = scr, K=k) +\n",
    "                    specificity(scr) * p_no_crc * utility_cit(age, crc=0, r_scr=0, scr = scr, K=k)\n",
    "                for scr in scr_decision_patient] )\n",
    "\n",
    "                argmax = np.argmax(arr)\n",
    "                count_arr[argmax] += 1\n",
    "                    \n",
    "            p_scr = count_arr / total_sim\n",
    "            plt_arr.append(p_scr)\n",
    "        \n",
    "        plt_arr = np.array(plt_arr)\n",
    "        # for each K, plot the distribution of p_scr with a different color\n",
    "        plt.hist(plt_arr[:, 1], bins = 16 , alpha=0.5, label=str(k))\n",
    "        plt.legend(loc='upper right')\n",
    "        plt.title(\"Age = \" + age)\n",
    "        print(f\"K = {k}, mean_p_scr = {np.mean(plt_arr[:,1])}, median_p_scr = {np.median(plt_arr[:,1])}\")\n",
    "                    "
   ]
  },
  {
   "cell_type": "code",
   "execution_count": 711,
   "metadata": {},
   "outputs": [
    {
     "name": "stdout",
     "output_type": "stream",
     "text": [
      "Optimal screening: Stool_DNA\n",
      "p_crc = 0.002235155200821302\n",
      "K = 0, mean_p_scr = 0.39590000000000003, median_p_scr = 0.39\n",
      "K = 1, mean_p_scr = 0.3992, median_p_scr = 0.4\n",
      "K = 50, mean_p_scr = 0.5381999999999999, median_p_scr = 0.54\n",
      "K = 100, mean_p_scr = 0.6659999999999999, median_p_scr = 0.67\n",
      "K = 200, mean_p_scr = 0.8622, median_p_scr = 0.86\n"
     ]
    },
    {
     "data": {
      "image/png": "[encoded data removed]",
      "text/plain": [
       "<Figure size 640x480 with 1 Axes>"
      ]
     },
     "metadata": {},
     "output_type": "display_data"
    }
   ],
   "source": [
    "patient_chars = {\n",
    "\"Age\": \"age_5_old_adult\", \n",
    "\"Sex\": \"M\",\n",
    "\"SD\": \"SD_2_normal\",\n",
    "\"PA\": \"PA_2\",\n",
    "\"Smoking\": \"sm_1_not_smoker\",\n",
    "\"BMI\": \"bmi_2_normal\",\n",
    "\"Alcohol\": \"low\",\n",
    "\"Diabetes\": \"False\",\n",
    "\"Hypertension\": \"False\",\n",
    "}\n",
    "\n",
    "plot_histograms_count_distrib(net2, patient_chars)"
   ]
  },
  {
   "cell_type": "code",
   "execution_count": 712,
   "metadata": {},
   "outputs": [
    {
     "name": "stdout",
     "output_type": "stream",
     "text": [
      "Optimal screening: No_screening\n",
      "p_crc = 0.0008431446381633401\n",
      "K = 0, mean_p_scr = 0.49820000000000014, median_p_scr = 0.49\n",
      "K = 1, mean_p_scr = 0.5006, median_p_scr = 0.49\n",
      "K = 50, mean_p_scr = 0.5044, median_p_scr = 0.505\n",
      "K = 100, mean_p_scr = 0.49450000000000005, median_p_scr = 0.5\n",
      "K = 200, mean_p_scr = 0.49749999999999983, median_p_scr = 0.5\n"
     ]
    },
    {
     "data": {
      "image/png": "[encoded data removed]",
      "text/plain": [
       "<Figure size 640x480 with 1 Axes>"
      ]
     },
     "metadata": {},
     "output_type": "display_data"
    }
   ],
   "source": [
    "patient_chars = {\n",
    "\"Age\": \"age_4_adult\", \n",
    "\"Sex\": \"M\",\n",
    "\"SD\": \"SD_2_normal\",\n",
    "\"PA\": \"PA_2\",\n",
    "\"Smoking\": \"sm_1_not_smoker\",\n",
    "\"BMI\": \"bmi_2_normal\",\n",
    "\"Alcohol\": \"low\",\n",
    "\"Diabetes\": \"False\",\n",
    "\"Hypertension\": \"False\",\n",
    "}\n",
    "\n",
    "plot_histograms_count_distrib(net2, patient_chars)"
   ]
  },
  {
   "cell_type": "markdown",
   "metadata": {},
   "source": [
    "### Government decision"
   ]
  },
  {
   "cell_type": "code",
   "execution_count": 713,
   "metadata": {},
   "outputs": [],
   "source": [
    "net2 = pysmile.Network()\n",
    "net2.read_file(f\"DM_screening_rel_point_cond_mut_info_linear.xdsl\")\n",
    "net2.clear_all_evidence()\n",
    "\n",
    "patient_chars = {\n",
    "\"Age\": \"age_5_old_adult\", \n",
    "\"Sex\": \"M\",\n",
    "\"SD\": \"SD_2_normal\",\n",
    "\"PA\": \"PA_2\",\n",
    "\"Smoking\": \"sm_1_not_smoker\",\n",
    "\"BMI\": \"bmi_2_normal\",\n",
    "\"Alcohol\": \"low\",\n",
    "\"Diabetes\": \"False\",\n",
    "\"Hypertension\": \"False\",\n",
    "}\n",
    "\n",
    "for key, value in patient_chars.items():\n",
    "    net2.set_evidence(key, value)\n",
    "\n",
    "net2.update_beliefs()\n",
    "\n",
    "p_crc = net2.get_node_value(\"CRC\")[1]\n",
    "p_no_crc = net2.get_node_value(\"CRC\")[0]\n",
    "\n",
    "vars1 = net2.get_outcome_ids(\"Screening\")\n",
    "arr = np.array(net2.get_node_value(\"Screening\"))\n",
    "df_scr = pd.DataFrame(arr.reshape(1,-1), index=[\"Screening\"], columns=vars1)\n",
    "\n",
    "# take column with the highest value\n",
    "scr = df_scr.idxmax(axis=1).values[0]\n",
    "scr_decision_patient = [\"No_screening\", scr]\n",
    "\n",
    "\n",
    "\n",
    "# ---------------------- Run the Simulation ----------------------\n",
    "total_sim = 300\n",
    "age = patient_chars[\"Age\"]\n",
    "\n",
    "n_K_points = 20\n",
    "upper_K = 500\n",
    "n_random_trials = 1000\n",
    "\n",
    "v_scr_K_iter = []"
   ]
  },
  {
   "cell_type": "code",
   "execution_count": 714,
   "metadata": {},
   "outputs": [
    {
     "data": {
      "image/png": "[encoded data removed]",
      "text/plain": [
       "<Figure size 640x480 with 1 Axes>"
      ]
     },
     "metadata": {},
     "output_type": "display_data"
    }
   ],
   "source": [
    "n_random_trials = 50\n",
    "for _ in range(n_random_trials):\n",
    "    p_no_crc = 1 - p_crc\n",
    "    scr_decision_patient = [\"No_screening\", scr]\n",
    "\n",
    "    v_x_K_arr = np.zeros((n_K_points,))\n",
    "\n",
    "    for ind_k, k in enumerate(np.linspace(1, upper_K, n_K_points)):\n",
    "        count_arr = np.zeros(len(scr_decision_patient))\n",
    "        for _ in range(total_sim):\n",
    "\n",
    "            arr = np.array( [\n",
    "                    sensitivity(scr) * p_crc * utility_cit(age, crc=1, r_scr=1, scr = scr, K=k) +\n",
    "                    (1 - specificity(scr)) * p_no_crc * utility_cit(age, crc=0, r_scr=1, scr = scr, K=k)\n",
    "                +\n",
    "                    (1 - sensitivity(scr)) * p_crc * utility_cit(age, crc=1, r_scr=0, scr = scr, K=k) +\n",
    "                    specificity(scr) * p_no_crc * utility_cit(age, crc=0, r_scr=0, scr = scr, K=k)\n",
    "                for scr in scr_decision_patient] )\n",
    "\n",
    "            argmax = np.argmax(arr)\n",
    "            count_arr[argmax] += 1\n",
    "        \n",
    "        p_scr_K = count_arr / total_sim\n",
    "\n",
    "\n",
    "        v_x_K = [ p_scr_K[i] * (\n",
    "            sensitivity(scr) * p_crc * utility_gov(age, crc=1, r_scr=1, scr = scr, K=k) +\n",
    "            (1 - specificity(scr)) * p_no_crc * utility_gov(age, crc=0, r_scr=1, scr = scr, K=k)\n",
    "        +  \n",
    "            (1 - sensitivity(scr)) * p_crc * utility_gov(age, crc=1, r_scr=0, scr = scr, K=k) +\n",
    "            specificity(scr) * p_no_crc * utility_gov(age, crc=0, r_scr=0, scr = scr, K=k)\n",
    "        ) for i, scr in enumerate(scr_decision_patient)] \n",
    "\n",
    "\n",
    "        v_x_K_arr[ind_k] = sum(v_x_K)\n",
    "\n",
    "    opt_val_loc = np.argmax(v_x_K_arr)\n",
    "    opt_K = np.linspace(1, upper_K, n_K_points)[opt_val_loc]\n",
    "\n",
    "    v_scr_K_iter.append(v_x_K_arr)\n",
    "\n",
    "summ_v_scr_K_iter = np.mean(np.stack(v_scr_K_iter), axis = 0)\n",
    "plt.plot(np.linspace(0, upper_K, n_K_points), summ_v_scr_K_iter, label = scr)\n",
    "plt.legend(loc='upper right')\n",
    "plt.xlabel(\"K\")\n",
    "plt.ylabel(\"Mean V_scr_K\")\n",
    "plt.title(f\"Average Screening Value Over {n_random_trials} Random Trials\")\n",
    "plt.show()"
   ]
  },
  {
   "cell_type": "markdown",
   "metadata": {},
   "source": [
    "### Pruebas"
   ]
  },
  {
   "cell_type": "code",
   "execution_count": 392,
   "metadata": {},
   "outputs": [
    {
     "data": {
      "text/plain": [
       "array([-15.7728533 , -34.69799342])"
      ]
     },
     "execution_count": 392,
     "metadata": {},
     "output_type": "execute_result"
    }
   ],
   "source": [
    "#CITIZEN\n",
    "k = 30\n",
    "\n",
    "arr = np.array( [\n",
    "                    sensitivity(scr) * p_crc * utility_cit(age, crc=1, r_scr=1, scr = scr, K=k) +\n",
    "                    (1 - specificity(scr)) * p_no_crc * utility_cit(age, crc=0, r_scr=1, scr = scr, K=k)\n",
    "                +\n",
    "                    (1 - sensitivity(scr)) * p_crc * utility_cit(age, crc=1, r_scr=0, scr = scr, K=k) +\n",
    "                    specificity(scr) * p_no_crc * utility_cit(age, crc=0, r_scr=0, scr = scr, K=k)\n",
    "                for scr in scr_decision_patient] )\n",
    "\n",
    "arr"
   ]
  },
  {
   "cell_type": "code",
   "execution_count": 393,
   "metadata": {},
   "outputs": [
    {
     "data": {
      "text/plain": [
       "array([0.58, 0.42])"
      ]
     },
     "execution_count": 393,
     "metadata": {},
     "output_type": "execute_result"
    }
   ],
   "source": [
    "count_arr = np.zeros(len(scr_decision_patient))\n",
    "for _ in range(total_sim):\n",
    "\n",
    "    arr = np.array( [\n",
    "            sensitivity(scr) * p_crc * utility_cit(age, crc=1, r_scr=1, scr = scr, K=k) +\n",
    "            (1 - specificity(scr)) * p_no_crc * utility_cit(age, crc=0, r_scr=1, scr = scr, K=k)\n",
    "        +\n",
    "            (1 - sensitivity(scr)) * p_crc * utility_cit(age, crc=1, r_scr=0, scr = scr, K=k) +\n",
    "            specificity(scr) * p_no_crc * utility_cit(age, crc=0, r_scr=0, scr = scr, K=k)\n",
    "        for scr in scr_decision_patient] )\n",
    "\n",
    "    argmax = np.argmax(arr)\n",
    "    count_arr[argmax] += 1\n",
    "\n",
    "p_scr_K = count_arr / total_sim\n",
    "\n",
    "p_scr_K"
   ]
  },
  {
   "cell_type": "code",
   "execution_count": 395,
   "metadata": {},
   "outputs": [
    {
     "data": {
      "text/plain": [
       "[-49.43167698534271, 478.2628953090798]"
      ]
     },
     "execution_count": 395,
     "metadata": {},
     "output_type": "execute_result"
    }
   ],
   "source": [
    "#GOVERNMENT\n",
    "\n",
    "arr = [ (\n",
    "            sensitivity(scr) * p_crc * utility_gov(age, crc=1, r_scr=1, scr = scr, K=k) +\n",
    "            (1 - specificity(scr)) * p_no_crc * utility_gov(age, crc=0, r_scr=1, scr = scr, K=k)\n",
    "        +  \n",
    "            (1 - sensitivity(scr)) * p_crc * utility_gov(age, crc=1, r_scr=0, scr = scr, K=k) +\n",
    "            specificity(scr) * p_no_crc * utility_gov(age, crc=0, r_scr=0, scr = scr, K=k)\n",
    "        ) for scr in scr_decision_patient]\n",
    "\n",
    "arr"
   ]
  },
  {
   "cell_type": "code",
   "execution_count": 396,
   "metadata": {},
   "outputs": [
    {
     "data": {
      "text/plain": [
       "[np.float64(-13.584540345479917), np.float64(131.72820782487042)]"
      ]
     },
     "execution_count": 396,
     "metadata": {},
     "output_type": "execute_result"
    }
   ],
   "source": [
    "\n",
    "arr = [ p_scr_K[i] * (\n",
    "            sensitivity(scr) * p_crc * utility_gov(age, crc=1, r_scr=1, scr = scr, K=k) +\n",
    "            (1 - specificity(scr)) * p_no_crc * utility_gov(age, crc=0, r_scr=1, scr = scr, K=k)\n",
    "        +  \n",
    "            (1 - sensitivity(scr)) * p_crc * utility_gov(age, crc=1, r_scr=0, scr = scr, K=k) +\n",
    "            specificity(scr) * p_no_crc * utility_gov(age, crc=0, r_scr=0, scr = scr, K=k)\n",
    "        ) for i, scr in enumerate(scr_decision_patient)]\n",
    "\n",
    "\n",
    "arr"
   ]
  },
  {
   "cell_type": "code",
   "execution_count": null,
   "metadata": {},
   "outputs": [],
   "source": []
  },
  {
   "cell_type": "code",
   "execution_count": 133,
   "metadata": {},
   "outputs": [
    {
     "name": "stdout",
     "output_type": "stream",
     "text": [
      "72.98620006592377 44.086818497300484 17.894905470606222 31.829246652293236\n"
     ]
    }
   ],
   "source": [
    "K = 1\n",
    "U_C0_I0 = utility_cit(age, crc = 0, scr = 0, K = K)\n",
    "U_C0_I1 = utility_cit(age, crc = 0, scr = 1, K = K)\n",
    "U_C1_I0 = utility_cit(age, crc = 1, scr = 0, K = K)\n",
    "U_C1_I1 = utility_cit(age, crc = 1, scr = 1, K = K)\n",
    "\n",
    "print(U_C0_I0, U_C0_I1, U_C1_I0, U_C1_I1)\n",
    "\n",
    "\n",
    "if U_C1_I1 * p_crc + U_C0_I1 * p_no_crc > U_C1_I0 * p_crc + U_C0_I0 * p_no_crc:\n",
    "    print(\"Screening\")"
   ]
  },
  {
   "cell_type": "code",
   "execution_count": 126,
   "metadata": {},
   "outputs": [
    {
     "data": {
      "text/plain": [
       "71.99053644113627"
      ]
     },
     "execution_count": 126,
     "metadata": {},
     "output_type": "execute_result"
    }
   ],
   "source": [
    "30000*EQ5D(age)*QALY(0, 0) / 365"
   ]
  },
  {
   "cell_type": "code",
   "execution_count": null,
   "metadata": {},
   "outputs": [],
   "source": []
  },
  {
   "cell_type": "code",
   "execution_count": null,
   "metadata": {},
   "outputs": [],
   "source": []
  }
 ],
 "metadata": {
  "kernelspec": {
   "display_name": "crc_incentives",
   "language": "python",
   "name": "python3"
  },
  "language_info": {
   "codemirror_mode": {
    "name": "ipython",
    "version": 3
   },
   "file_extension": ".py",
   "mimetype": "text/x-python",
   "name": "python",
   "nbconvert_exporter": "python",
   "pygments_lexer": "ipython3",
   "version": "3.11.11"
  }
 },
 "nbformat": 4,
 "nbformat_minor": 2
}
